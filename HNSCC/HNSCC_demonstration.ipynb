{
 "cells": [
  {
   "cell_type": "markdown",
   "metadata": {},
   "source": [
    "# HNSCC"
   ]
  },
  {
   "cell_type": "markdown",
   "metadata": {},
   "source": [
    "First we import all the necessary libraries"
   ]
  },
  {
   "cell_type": "code",
   "execution_count": 1,
   "metadata": {},
   "outputs": [],
   "source": [
    "import pandas as pd\n",
    "import numpy as np\n",
    "from sklearn.preprocessing import normalize\n",
    "from umap import UMAP\n",
    "from matplotlib import pyplot as plt\n",
    "from sklearn.cluster import DBSCAN"
   ]
  },
  {
   "cell_type": "markdown",
   "metadata": {},
   "source": [
    "Then we load the CSV file"
   ]
  },
  {
   "cell_type": "code",
   "execution_count": 2,
   "metadata": {},
   "outputs": [],
   "source": [
    "all_data = pd.read_table('./HNSCC_all_data.txt', header=None, low_memory=False)\n",
    "\n",
    "# data contains only the expression levels\n",
    "data = pd.DataFrame(all_data.values[6:,1:], columns=all_data.values[0, 1:], dtype=np.float32)\n",
    "# here we transpose the matrix so that we have the genes on the columns and the cells on the rows\n",
    "data = data.T"
   ]
  },
  {
   "cell_type": "markdown",
   "metadata": {},
   "source": [
    "## Pre-processing"
   ]
  },
  {
   "cell_type": "code",
   "execution_count": 5,
   "metadata": {},
   "outputs": [],
   "source": [
    "# here we normalize the data both in-samples and between samples\n",
    "data_normalized = normalize(data)"
   ]
  },
  {
   "cell_type": "markdown",
   "metadata": {},
   "source": [
    "### Dimensionality reduction with UMAP"
   ]
  },
  {
   "cell_type": "markdown",
   "metadata": {},
   "source": [
    "Since our data has to many columns(genes) to be plot and clustered we perform dimensionality reduction on it"
   ]
  },
  {
   "cell_type": "code",
   "execution_count": 6,
   "metadata": {},
   "outputs": [
    {
     "data": {
      "text/plain": [
       "(5902, 2)"
      ]
     },
     "execution_count": 6,
     "metadata": {},
     "output_type": "execute_result"
    }
   ],
   "source": [
    "reducer = UMAP(\n",
    "    random_state=47,\n",
    ")\n",
    "trans = reducer.fit_transform(data_normalized) # it's a numpy.ndarray\n",
    "trans.shape # (5902, 2)"
   ]
  },
  {
   "cell_type": "code",
   "execution_count": 7,
   "metadata": {},
   "outputs": [
    {
     "data": {
      "text/plain": [
       "Text(0.5, 1.0, 'UMAP applied on HNSCC')"
      ]
     },
     "execution_count": 7,
     "metadata": {},
     "output_type": "execute_result"
    },
    {
     "data": {
      "image/png": "[encoded data removed]",
      "text/plain": [
       "<Figure size 432x288 with 1 Axes>"
      ]
     },
     "metadata": {
      "needs_background": "light"
     },
     "output_type": "display_data"
    }
   ],
   "source": [
    "plt.scatter(\n",
    "    trans[:, 0], # first column as X\n",
    "    trans[:, 1], # second column as Y\n",
    "    alpha=.7\n",
    ")\n",
    "plt.xlabel(\"UMAP_1\")\n",
    "plt.ylabel(\"UMAP_2\")\n",
    "plt.title(\"UMAP applied on HNSCC\")"
   ]
  },
  {
   "cell_type": "markdown",
   "metadata": {},
   "source": [
    "## Clustering"
   ]
  },
  {
   "cell_type": "markdown",
   "metadata": {},
   "source": [
    "We are going to use DBSCAN to find the clusters"
   ]
  },
  {
   "cell_type": "code",
   "execution_count": 8,
   "metadata": {},
   "outputs": [],
   "source": [
    "db = DBSCAN().fit(trans)"
   ]
  },
  {
   "cell_type": "code",
   "execution_count": null,
   "metadata": {},
   "outputs": [],
   "source": [
    "plt.scatter(\n",
    "    trans[:, 0],\n",
    "    trans[:, 1],\n",
    "    alpha=.7,\n",
    "    c=db.labels_\n",
    ")\n",
    "plt.xlabel(\"UMAP_1\")\n",
    "plt.ylabel(\"UMAP_2\")\n",
    "plt.colorbar()\n",
    "plt.title(\"Clustering with DBSCANN\");"
   ]
  },
  {
   "cell_type": "markdown",
   "metadata": {},
   "source": [
    "### Find most expressed genes in a cluster"
   ]
  },
  {
   "cell_type": "code",
   "execution_count": 10,
   "metadata": {},
   "outputs": [
    {
     "data": {
      "text/plain": [
       "array([\"'C9orf152'\", \"'RPS11'\", \"'ELMO2'\", ..., \"'SLC39A6'\", \"'CTSC'\",\n",
       "       \"'AQP7'\"], dtype=object)"
      ]
     },
     "execution_count": 10,
     "metadata": {},
     "output_type": "execute_result"
    }
   ],
   "source": [
    "gene_names = all_data.values[6:,0]\n",
    "gene_names"
   ]
  },
  {
   "cell_type": "markdown",
   "metadata": {},
   "source": [
    "Here we change the content of the data with the normalized values"
   ]
  },
  {
   "cell_type": "code",
   "execution_count": 28,
   "metadata": {},
   "outputs": [],
   "source": [
    "data[:] = data_normalized"
   ]
  },
  {
   "cell_type": "markdown",
   "metadata": {},
   "source": [
    "##### Find the most expressed genes in the cells of that cluster"
   ]
  },
  {
   "cell_type": "code",
   "execution_count": 27,
   "metadata": {},
   "outputs": [
    {
     "name": "stdout",
     "output_type": "stream",
     "text": [
      "Most expressed genes for cluster number: 0\n",
      "5797     0.040514\n",
      "20342    0.041886\n",
      "12256    0.042590\n",
      "11140    0.045928\n",
      "514      0.048568\n",
      "dtype: float32\n",
      "[\"'TMSB4X'\" \"'ACTB'\" \"'MTRNR2L8'\" \"'MTRNR2L2'\" \"'B2M'\"]\n",
      "\n",
      "Most expressed genes for cluster number: 1\n",
      "26       0.041244\n",
      "4800     0.043386\n",
      "22012    0.045943\n",
      "12256    0.048841\n",
      "11140    0.054020\n",
      "dtype: float32\n",
      "[\"'RPS18'\" \"'RPS8'\" \"'GAPDH'\" \"'MTRNR2L8'\" \"'MTRNR2L2'\"]\n",
      "\n",
      "Most expressed genes for cluster number: 2\n",
      "7719     0.051971\n",
      "5277     0.052346\n",
      "11140    0.054362\n",
      "3701     0.054805\n",
      "514      0.060216\n",
      "dtype: float32\n",
      "[\"'FTL'\" \"'HERPUD1'\" \"'MTRNR2L2'\" \"'SSR4'\" \"'B2M'\"]\n",
      "\n",
      "Most expressed genes for cluster number: 3\n",
      "11140    0.049653\n",
      "4276     0.049906\n",
      "13895    0.051500\n",
      "176      0.051656\n",
      "22012    0.053559\n",
      "dtype: float32\n",
      "[\"'MTRNR2L2'\" \"'ACTA1'\" \"'MYL1'\" \"'TNNT3'\" \"'GAPDH'\"]\n",
      "\n",
      "Most expressed genes for cluster number: 4\n",
      "21092    0.045808\n",
      "8613     0.047606\n",
      "20342    0.051102\n",
      "5797     0.061983\n",
      "514      0.065591\n",
      "dtype: float32\n",
      "[\"'FTH1'\" \"'MALAT1'\" \"'ACTB'\" \"'TMSB4X'\" \"'B2M'\"]\n",
      "\n",
      "Most expressed genes for cluster number: 5\n",
      "11828    0.048768\n",
      "20342    0.055477\n",
      "15727    0.057337\n",
      "5797     0.058653\n",
      "514      0.061612\n",
      "dtype: float32\n",
      "[\"'TMSB10'\" \"'ACTB'\" \"'CD74'\" \"'TMSB4X'\" \"'B2M'\"]\n",
      "\n",
      "Most expressed genes for cluster number: 6\n",
      "21092    0.053224\n",
      "12810    0.058169\n",
      "514      0.062208\n",
      "12770    0.065323\n",
      "22932    0.069181\n",
      "dtype: float32\n",
      "[\"'FTH1'\" \"'CPA3'\" \"'B2M'\" \"'TPSB2'\" \"'TPSAB1'\"]\n",
      "\n",
      "Most expressed genes for cluster number: 7\n",
      "11833    0.058629\n",
      "4640     0.059310\n",
      "8613     0.066858\n",
      "12256    0.077963\n",
      "11140    0.081011\n",
      "dtype: float32\n",
      "[\"'MIR4461'\" \"'MTRNR2L1'\" \"'MALAT1'\" \"'MTRNR2L8'\" \"'MTRNR2L2'\"]\n",
      "\n",
      "Most expressed genes for cluster number: 8\n",
      "12558    0.038864\n",
      "9523     0.041043\n",
      "21092    0.042888\n",
      "21035    0.044395\n",
      "7719     0.045625\n",
      "dtype: float32\n",
      "[\"'ANXA2'\" \"'EPCAM'\" \"'FTH1'\" \"'KRT17'\" \"'FTL'\"]\n",
      "\n",
      "Most expressed genes for cluster number: 9\n",
      "1        0.056248\n",
      "19278    0.058895\n",
      "18205    0.061179\n",
      "23316    0.061379\n",
      "760      0.065441\n",
      "dtype: float32\n",
      "[\"'RPS11'\" \"'C17orf76-AS1'\" \"'SET'\" \"'RPL23'\" \"'HNRNPH1'\"]\n",
      "\n"
     ]
    }
   ],
   "source": [
    "for cluster_id in set(db.labels_):\n",
    "    # get the cells of that cluster\n",
    "    label_n = data.loc[db.labels_ == cluster_id, :]\n",
    "\n",
    "    # get the total expression of the genes and sort the results\n",
    "    sorted_genes = label_n.sum(axis=0).sort_values() / label_n.shape[0]\n",
    "    \n",
    "    # print the most expressed genes in this cluster\n",
    "    print(\"Most expressed genes for cluster number:\", cluster_id)\n",
    "    print(sorted_genes.tail())\n",
    "    print(gene_names[sorted_genes.tail().keys()])\n",
    "    print(\"\")"
   ]
  },
  {
   "cell_type": "markdown",
   "metadata": {},
   "source": [
    "##### Find the most expressed genes in the cells of that cluster in relation with the other clusters"
   ]
  },
  {
   "cell_type": "code",
   "execution_count": 40,
   "metadata": {},
   "outputs": [
    {
     "name": "stdout",
     "output_type": "stream",
     "text": [
      "Most expressed genes for cluster number: 0\n",
      "19131    0.007477\n",
      "3164     0.007781\n",
      "13591    0.008107\n",
      "10337    0.008237\n",
      "2267     0.010365\n",
      "dtype: float32\n",
      "[\"'MT2A'\" \"'SERPING1'\" \"'IGFBP7'\" \"'C1R'\" \"'IFITM3'\"]\n",
      "\n",
      "Most expressed genes for cluster number: 1\n",
      "3443     0.023702\n",
      "13941    0.025018\n",
      "7002     0.028901\n",
      "9940     0.030535\n",
      "13435    0.031523\n",
      "dtype: float32\n",
      "[\"'KRT8'\" \"'UBD'\" \"'FDCSP'\" \"'KRT19'\" \"'CSN3'\"]\n",
      "\n",
      "Most expressed genes for cluster number: 2\n",
      "3701     0.037896\n",
      "22146    0.038078\n",
      "6442     0.041575\n",
      "8171     0.046316\n",
      "17927    0.047463\n",
      "dtype: float32\n",
      "[\"'SSR4'\" \"'DERL3'\" \"'IGLL5'\" \"'ELK2AP'\" \"'MZB1'\"]\n",
      "\n",
      "Most expressed genes for cluster number: 3\n",
      "22056    0.043534\n",
      "10784    0.045411\n",
      "4276     0.049673\n",
      "176      0.051207\n",
      "13895    0.051306\n",
      "dtype: float32\n",
      "[\"'CKM'\" \"'DES'\" \"'ACTA1'\" \"'TNNT3'\" \"'MYL1'\"]\n",
      "\n",
      "Most expressed genes for cluster number: 4\n",
      "3725     0.023244\n",
      "3702     0.026127\n",
      "7963     0.026244\n",
      "737      0.026373\n",
      "11823    0.027428\n",
      "dtype: float32\n",
      "[\"'PTPRC'\" \"'RGS1'\" \"'SRGN'\" \"'ARHGDIB'\" \"'CXCR4'\"]\n",
      "\n",
      "Most expressed genes for cluster number: 5\n",
      "8206     0.032365\n",
      "20894    0.034051\n",
      "15727    0.034798\n",
      "3702     0.037328\n",
      "9520     0.043199\n",
      "dtype: float32\n",
      "[\"'GPR183'\" \"'LAMP3'\" \"'CD74'\" \"'RGS1'\" \"'CCR7'\"]\n",
      "\n",
      "Most expressed genes for cluster number: 6\n",
      "20618    0.039316\n",
      "2799     0.043228\n",
      "12810    0.056919\n",
      "12770    0.063859\n",
      "22932    0.067638\n",
      "dtype: float32\n",
      "[\"'HDC'\" \"'TPSD1'\" \"'CPA3'\" \"'TPSB2'\" \"'TPSAB1'\"]\n",
      "\n",
      "Most expressed genes for cluster number: 7\n",
      "8613     0.031167\n",
      "11833    0.032611\n",
      "16617    0.034085\n",
      "11140    0.037097\n",
      "12256    0.037274\n",
      "dtype: float32\n",
      "[\"'MALAT1'\" \"'MIR4461'\" \"'UGDH-AS1'\" \"'MTRNR2L2'\" \"'MTRNR2L8'\"]\n",
      "\n",
      "Most expressed genes for cluster number: 8\n",
      "6494     0.025043\n",
      "17159    0.026183\n",
      "21035    0.027815\n",
      "9654     0.029702\n",
      "9523     0.034098\n",
      "dtype: float32\n",
      "[\"'GPX2'\" \"'ALDH3A1'\" \"'KRT17'\" \"'GSTM1'\" \"'EPCAM'\"]\n",
      "\n",
      "Most expressed genes for cluster number: 9\n",
      "23316    0.036330\n",
      "1241     0.036621\n",
      "22340    0.037062\n",
      "2107     0.037553\n",
      "18205    0.038819\n",
      "dtype: float32\n",
      "[\"'RPL23'\" \"'SUZ12P1'\" \"'ATP1B1'\" \"'RQCD1'\" \"'SET'\"]\n",
      "\n"
     ]
    }
   ],
   "source": [
    "total_genes_expressions = data.loc[:, :].sum(axis=0) / data.values.shape[0]\n",
    "for cluster_id in set(db.labels_):\n",
    "    # get the cells of that cluster\n",
    "    label_n = data.loc[db.labels_ == cluster_id, :]\n",
    "    label_n -= total_genes_expressions\n",
    "    \n",
    "    # get the total expression of the genes and sort the results\n",
    "    sorted_genes = label_n.sum(axis=0).sort_values() / label_n.shape[0]\n",
    "    \n",
    "    # print the most expressed genes in this cluster\n",
    "    print(\"Most expressed genes for cluster number:\", cluster_id)\n",
    "    print(sorted_genes.tail())\n",
    "    print(gene_names[sorted_genes.tail().keys()])\n",
    "    print(\"\")"
   ]
  },
  {
   "cell_type": "markdown",
   "metadata": {},
   "source": [
    "##### Show the results "
   ]
  },
  {
   "cell_type": "code",
   "execution_count": 44,
   "metadata": {},
   "outputs": [
    {
     "data": {
      "image/png": "[encoded data removed]",
      "text/plain": [
       "<Figure size 432x288 with 2 Axes>"
      ]
     },
     "metadata": {
      "needs_background": "light"
     },
     "output_type": "display_data"
    },
    {
     "data": {
      "image/png": "[encoded data removed]",
      "text/plain": [
       "<Figure size 432x288 with 2 Axes>"
      ]
     },
     "metadata": {
      "needs_background": "light"
     },
     "output_type": "display_data"
    },
    {
     "data": {
      "image/png": "[encoded data removed]",
      "text/plain": [
       "<Figure size 432x288 with 2 Axes>"
      ]
     },
     "metadata": {
      "needs_background": "light"
     },
     "output_type": "display_data"
    }
   ],
   "source": [
    "def plot_gene(gene_number, gene_name):\n",
    "    plt.scatter(\n",
    "        trans[:, 0],\n",
    "        trans[:, 1],\n",
    "        alpha=.7,\n",
    "        c=data.values[:, gene_number].astype(np.float32)\n",
    "    )\n",
    "    plt.xlabel(\"UMAP_1\")\n",
    "    plt.ylabel(\"UMAP_2\")\n",
    "    plt.title(\"Gene \" + gene_name);\n",
    "    plt.colorbar()\n",
    "    plt.show()\n",
    "\n",
    "#plot_gene(514, \"B2M\")\n",
    "#plot_gene(11140, \"MTRNR2L2\")\n",
    "#plot_gene(5797, \"TMSB4X\")\n",
    "plot_gene(21035, \"KRT17\")\n",
    "plot_gene(11823, \"CXCR4 - T cells\")\n",
    "plot_gene(2267, \"IFITM3\") \n",
    "\n",
    "# Cluster 0 = Fibroblasts, Basal cells, EC\n",
    "# Cluster 1 = Basal cells, Cholangiocytes\n",
    "# Cluster 2 = Germ cells, T cells, Basal cells, Plasma cells, Dendritic cells\n",
    "# Cluster 3 = Germ cells, Smooth muscle c., Myoepithelial c.\n",
    "# Cluster 4 = T cells, Dendritic cells\n",
    "# Cluster 5 = T cells, Dendritic cells, Erythroid-like, Basal cells\n",
    "# Cluster 6 = Mast cells\n",
    "# Cluster 7 = T cells, Germ cells, Erythroid-like, Dendritic cells, Basal cells\n",
    "# Cluster 8 = Basal cells, Cholangiocytes, Germ cells\n",
    "# Cluster 9 = Germ cells, Basal cells, T cells, Dendritic cells"
   ]
  },
  {
   "cell_type": "markdown",
   "metadata": {},
   "source": [
    "# Ground truth"
   ]
  },
  {
   "cell_type": "code",
   "execution_count": 65,
   "metadata": {},
   "outputs": [
    {
     "data": {
      "image/png": "[encoded data removed]",
      "text/plain": [
       "<Figure size 432x288 with 1 Axes>"
      ]
     },
     "metadata": {
      "needs_background": "light"
     },
     "output_type": "display_data"
    }
   ],
   "source": [
    "plt.scatter(\n",
    "    trans[:, 0],\n",
    "    trans[:, 1],\n",
    "    alpha=.7,\n",
    "    c=all_data.values[3, 1:].astype(np.int32)\n",
    ")\n",
    "plt.xlabel(\"UMAP_1\")\n",
    "plt.ylabel(\"UMAP_2\")\n",
    "plt.title(\"Ground truth\");"
   ]
  },
  {
   "cell_type": "markdown",
   "metadata": {},
   "source": [
    "## Get most expressed genes for cancer and non-cancer cells"
   ]
  },
  {
   "cell_type": "code",
   "execution_count": 25,
   "metadata": {},
   "outputs": [
    {
     "name": "stdout",
     "output_type": "stream",
     "text": [
      "Most expressed genes for cancer cells\n",
      "12256    0.037799\n",
      "7719     0.037988\n",
      "20342    0.038186\n",
      "19983    0.038212\n",
      "12558    0.038828\n",
      "22012    0.038877\n",
      "16635    0.039283\n",
      "21035    0.040018\n",
      "514      0.040049\n",
      "11140    0.040097\n",
      "dtype: float32\n",
      "[\"'MTRNR2L8'\" \"'FTL'\" \"'ACTB'\" \"'KRT14'\" \"'ANXA2'\" \"'GAPDH'\" \"'RPL7'\"\n",
      " \"'KRT17'\" \"'B2M'\" \"'MTRNR2L2'\"]\n",
      "\n",
      "Most expressed genes for non cancer cells\n",
      "3015     0.039673\n",
      "16635    0.041086\n",
      "7719     0.041144\n",
      "8613     0.041943\n",
      "12256    0.042425\n",
      "21092    0.042903\n",
      "20342    0.045601\n",
      "11140    0.046207\n",
      "5797     0.050119\n",
      "514      0.056780\n",
      "dtype: float32\n",
      "[\"'UBB'\" \"'RPL7'\" \"'FTL'\" \"'MALAT1'\" \"'MTRNR2L8'\" \"'FTH1'\" \"'ACTB'\"\n",
      " \"'MTRNR2L2'\" \"'TMSB4X'\" \"'B2M'\"]\n",
      "\n"
     ]
    }
   ],
   "source": [
    "# get the cancer cells\n",
    "label_cancer = all_data.values[3, 1:].astype(np.int32)\n",
    "\n",
    "def most_expr_genes(is_cancer):\n",
    "    is_cancer = int(is_cancer)\n",
    "    cancer_cells = data.iloc[label_cancer == is_cancer, :]\n",
    "\n",
    "    sorted_cancer_genes = cancer_cells.sum(axis=0).sort_values() / cancer_cells.shape[0]\n",
    "\n",
    "    # print the most expressed genes in the cancer cells\n",
    "    if(is_cancer == 1):\n",
    "        print(\"Most expressed genes for cancer cells\")\n",
    "    else:\n",
    "        print(\"Most expressed genes for non cancer cells\")\n",
    "    print(sorted_cancer_genes.tail(10))\n",
    "    print(gene_names[sorted_cancer_genes.tail(10).keys()])\n",
    "    print(\"\")\n",
    "\n",
    "\n",
    "most_expr_genes(is_cancer=True)\n",
    "most_expr_genes(is_cancer=False)"
   ]
  },
  {
   "cell_type": "code",
   "execution_count": null,
   "metadata": {},
   "outputs": [],
   "source": []
  }
 ],
 "metadata": {
  "kernelspec": {
   "display_name": "Python 3",
   "language": "python",
   "name": "python3"
  },
  "language_info": {
   "codemirror_mode": {
    "name": "ipython",
    "version": 3
   },
   "file_extension": ".py",
   "mimetype": "text/x-python",
   "name": "python",
   "nbconvert_exporter": "python",
   "pygments_lexer": "ipython3",
   "version": "3.8.0"
  }
 },
 "nbformat": 4,
 "nbformat_minor": 4
}
