{
 "cells": [
  {
   "cell_type": "code",
   "execution_count": null,
   "metadata": {},
   "outputs": [],
   "source": [
    "library(SPARSim) #The SPARSim R package is loaded\n",
    "library(umap)   #The umap R package is loaded\n",
    "data(Zheng_param_preset)  # The Zheng dataset is loaded\n",
    "test_Zheng_param_preset <- Zheng_param_preset[1:2]  #We are going to use only to conditions"
   ]
  },
  {
   "cell_type": "code",
   "execution_count": null,
   "metadata": {},
   "outputs": [],
   "source": [
    "set.seed(7)\n",
    "results_Zheng <- SPARSim_simulation(dataset_parameter = test_Zheng_param_preset)  #Simulation with SPARSim"
   ]
  },
  {
   "cell_type": "code",
   "execution_count": null,
   "metadata": {},
   "outputs": [],
   "source": [
    "expression <- round(results_Zheng$gene_matrix*10^4)  #Real gene expression level\n",
    "count <- results_Zheng$count_matrix                  #Raw data\n",
    "normalization <- scran_normalization(count)          #Normalized data"
   ]
  },
  {
   "cell_type": "code",
   "execution_count": null,
   "metadata": {},
   "outputs": [],
   "source": [
    "#The UMAP dimensionality reduction is applied\n",
    "umap_expression <- umap::umap(t(expression))      \n",
    "umap_count <- umap::umap(t(count))\n",
    "umap_normalization <- umap::umap(t(normalization))"
   ]
  },
  {
   "cell_type": "code",
   "execution_count": null,
   "metadata": {},
   "outputs": [],
   "source": [
    "#The function to plot the umap results\n",
    "UMAP_plot <- function(x, labels, main=\"A UMAP visualization\", colors=c(\"blue\",\"red\"),\n",
    "                      pad=0.2, cex=1, pch=19, cex.main=1.5, cex.legend=2) {\n",
    "  layout = x$layout\n",
    "  ulabels <- unique(labels)\n",
    "  names(colors) <- ulabels\n",
    "  xylimit = range(layout)\n",
    "  xylimit = xylimit + ((xylimit[2]-xylimit[1])*pad)*c(-0.5, 0.5)\n",
    "  par(mar=c(0.2,0.7,1.2,0.7), ps=10)\n",
    "\n",
    "  plot(xylimit, xylimit, type=\"n\", axes=F, frame=F)\n",
    "  rect(xylimit[1], xylimit[1], xylimit[2], xylimit[2], border=\"#aaaaaa\", lwd=0.5)\n",
    "  points(layout[,1], layout[,2], col=colors[labels], cex=cex, pch=pch)\n",
    "  mtext(side=3, main, cex=cex.main)\n",
    "\n",
    "  labels.u = ulabels\n",
    "  legend.text = as.character(labels.u)\n",
    "  legend(x = xylimit[1], y = xylimit[2], legend=legend.text, col=colors[labels.u], bty=\"n\", pch=pch, cex=cex.legend)\n",
    "}"
   ]
  },
  {
   "cell_type": "code",
   "execution_count": null,
   "metadata": {},
   "outputs": [],
   "source": [
    "#Create 3 scatterplots for each dataset\n",
    "par(mfrow=c(1,3))\n",
    "options(repr.plot.width=20, repr.plot.height=7)\n",
    "cell_label <- c( rep(\"Jurkat cells\", 1440) , rep(\"T cells\", 1718))\n",
    "UMAP_plot(umap_count, cell_label, main = \"Raw data\")\n",
    "UMAP_plot(umap_normalization, cell_label, main = \"Normalized data\")\n",
    "UMAP_plot(umap_expression, cell_label, main = \"Real Gene expression level\")\n"
   ]
  },
  {
   "cell_type": "code",
   "execution_count": null,
   "metadata": {},
   "outputs": [],
   "source": [
    "#get the first 100 genes to see the different gene expression between Jurkat and T-cells\n",
    "genelabel <- rownames(expression)\n",
    "genelabel <- genelabel[1:100]"
   ]
  },
  {
   "cell_type": "code",
   "execution_count": null,
   "metadata": {},
   "outputs": [],
   "source": [
    "Jurkat <- c(0:1440)\n",
    "T_cells <- c(1441:3158)"
   ]
  },
  {
   "cell_type": "code",
   "execution_count": null,
   "metadata": {},
   "outputs": [],
   "source": [
    "#plotting the box plot to visualize different expressed genes\n",
    "for(label in genelabel){\n",
    "    \n",
    "    options(repr.plot.width=10, repr.plot.height=8)\n",
    "    \n",
    "    boxplot(expression[label, Jurkat], expression[label, T_cells], main = paste0(label, \"\\n Gene expression level\"), col = \"red\", \n",
    "          names = c(\"Jurkat\", \"T_cells\"), cex.axis=2, cex.main = 2)\n",
    "    \n",
    "}"
   ]
  }
 ],
 "metadata": {
  "kernelspec": {
   "display_name": "R",
   "language": "R",
   "name": "ir"
  },
  "language_info": {
   "codemirror_mode": "r",
   "file_extension": ".r",
   "mimetype": "text/x-r-source",
   "name": "R",
   "pygments_lexer": "r",
   "version": "3.6.3"
  }
 },
 "nbformat": 4,
 "nbformat_minor": 4
}
