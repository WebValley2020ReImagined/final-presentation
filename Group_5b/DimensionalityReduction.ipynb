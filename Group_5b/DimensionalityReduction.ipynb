{
 "cells": [
  {
   "cell_type": "markdown",
   "metadata": {},
   "source": [
    "# Dimensionality Reduction\n"
   ]
  },
  {
   "cell_type": "markdown",
   "metadata": {},
   "source": [
    "by: Tarun Martheswaran"
   ]
  },
  {
   "cell_type": "markdown",
   "metadata": {},
   "source": [
    "The main goal of scRNA-seq analyses is to compare several cells based on their expression values of several different genes. Each of these genes can represent a \"dimension\" of the data. "
   ]
  },
  {
   "cell_type": "markdown",
   "metadata": {},
   "source": [
    "For example, we can easily create a data set with two genes:"
   ]
  },
  {
   "cell_type": "code",
   "execution_count": 19,
   "metadata": {},
   "outputs": [
    {
     "data": {
      "text/html": [
       "<table class=\"dataframe\">\n",
       "<caption>A data.frame: 2 × 3</caption>\n",
       "<thead>\n",
       "\t<tr><th></th><th scope=col>Cell.1</th><th scope=col>Cell.2</th><th scope=col>Cell.3</th></tr>\n",
       "\t<tr><th></th><th scope=col>&lt;int&gt;</th><th scope=col>&lt;int&gt;</th><th scope=col>&lt;int&gt;</th></tr>\n",
       "</thead>\n",
       "<tbody>\n",
       "\t<tr><th scope=row>Gene1</th><td>1</td><td>3</td><td>5</td></tr>\n",
       "\t<tr><th scope=row>Gene2</th><td>2</td><td>4</td><td>6</td></tr>\n",
       "</tbody>\n",
       "</table>\n"
      ],
      "text/latex": [
       "A data.frame: 2 × 3\n",
       "\\begin{tabular}{r|lll}\n",
       "  & Cell.1 & Cell.2 & Cell.3\\\\\n",
       "  & <int> & <int> & <int>\\\\\n",
       "\\hline\n",
       "\tGene1 & 1 & 3 & 5\\\\\n",
       "\tGene2 & 2 & 4 & 6\\\\\n",
       "\\end{tabular}\n"
      ],
      "text/markdown": [
       "\n",
       "A data.frame: 2 × 3\n",
       "\n",
       "| <!--/--> | Cell.1 &lt;int&gt; | Cell.2 &lt;int&gt; | Cell.3 &lt;int&gt; |\n",
       "|---|---|---|---|\n",
       "| Gene1 | 1 | 3 | 5 |\n",
       "| Gene2 | 2 | 4 | 6 |\n",
       "\n"
      ],
      "text/plain": [
       "      Cell.1 Cell.2 Cell.3\n",
       "Gene1 1      3      5     \n",
       "Gene2 2      4      6     "
      ]
     },
     "metadata": {},
     "output_type": "display_data"
    }
   ],
   "source": [
    "#A sample dataframe with 2 genes. We choose random values here for the sake of demonstration\n",
    "#Try to understand each line of this code for practice \n",
    "sampledf <- data.frame(\"Cell 1\" = c(1:2), \"Cell 2\"= c(3:4), \"Cell 3\"= c(5:6))\n",
    "row.names(sampledf) <- c(\"Gene1\", \"Gene2\")\n",
    "sampledf"
   ]
  },
  {
   "cell_type": "markdown",
   "metadata": {},
   "source": [
    "With this data, we can simply make a two-dimensional plot:"
   ]
  },
  {
   "cell_type": "code",
   "execution_count": 20,
   "metadata": {},
   "outputs": [
    {
     "data": {
      "image/png": "[encoded data removed]",
      "text/plain": [
       "Plot with title “2-D graph”"
      ]
     },
     "metadata": {
      "image/png": {
       "height": 420,
       "width": 420
      }
     },
     "output_type": "display_data"
    }
   ],
   "source": [
    "#How did I create this plot?\n",
    "#What does each axis represent here\n",
    "plot(c(sampledf[1,]), c(sampledf[2,]), \n",
    "     main=\"2-D graph\", \n",
    "     xlab=\"Gene 1\")"
   ]
  },
  {
   "cell_type": "markdown",
   "metadata": {},
   "source": [
    "What happens when the number of genes is more than 2? How about 1000, as shown below? "
   ]
  },
  {
   "cell_type": "code",
   "execution_count": 21,
   "metadata": {},
   "outputs": [
    {
     "data": {
      "text/html": [
       "<table class=\"dataframe\">\n",
       "<caption>A matrix: 1000 × 2 of type int</caption>\n",
       "<tbody>\n",
       "\t<tr><td> 1</td><td>1001</td></tr>\n",
       "\t<tr><td> 2</td><td>1002</td></tr>\n",
       "\t<tr><td> 3</td><td>1003</td></tr>\n",
       "\t<tr><td> 4</td><td>1004</td></tr>\n",
       "\t<tr><td> 5</td><td>1005</td></tr>\n",
       "\t<tr><td> 6</td><td>1006</td></tr>\n",
       "\t<tr><td> 7</td><td>1007</td></tr>\n",
       "\t<tr><td> 8</td><td>1008</td></tr>\n",
       "\t<tr><td> 9</td><td>1009</td></tr>\n",
       "\t<tr><td>10</td><td>1010</td></tr>\n",
       "\t<tr><td>11</td><td>1011</td></tr>\n",
       "\t<tr><td>12</td><td>1012</td></tr>\n",
       "\t<tr><td>13</td><td>1013</td></tr>\n",
       "\t<tr><td>14</td><td>1014</td></tr>\n",
       "\t<tr><td>15</td><td>1015</td></tr>\n",
       "\t<tr><td>16</td><td>1016</td></tr>\n",
       "\t<tr><td>17</td><td>1017</td></tr>\n",
       "\t<tr><td>18</td><td>1018</td></tr>\n",
       "\t<tr><td>19</td><td>1019</td></tr>\n",
       "\t<tr><td>20</td><td>1020</td></tr>\n",
       "\t<tr><td>21</td><td>1021</td></tr>\n",
       "\t<tr><td>22</td><td>1022</td></tr>\n",
       "\t<tr><td>23</td><td>1023</td></tr>\n",
       "\t<tr><td>24</td><td>1024</td></tr>\n",
       "\t<tr><td>25</td><td>1025</td></tr>\n",
       "\t<tr><td>26</td><td>1026</td></tr>\n",
       "\t<tr><td>27</td><td>1027</td></tr>\n",
       "\t<tr><td>28</td><td>1028</td></tr>\n",
       "\t<tr><td>29</td><td>1029</td></tr>\n",
       "\t<tr><td>30</td><td>1030</td></tr>\n",
       "\t<tr><td>⋮</td><td>⋮</td></tr>\n",
       "\t<tr><td> 971</td><td>1971</td></tr>\n",
       "\t<tr><td> 972</td><td>1972</td></tr>\n",
       "\t<tr><td> 973</td><td>1973</td></tr>\n",
       "\t<tr><td> 974</td><td>1974</td></tr>\n",
       "\t<tr><td> 975</td><td>1975</td></tr>\n",
       "\t<tr><td> 976</td><td>1976</td></tr>\n",
       "\t<tr><td> 977</td><td>1977</td></tr>\n",
       "\t<tr><td> 978</td><td>1978</td></tr>\n",
       "\t<tr><td> 979</td><td>1979</td></tr>\n",
       "\t<tr><td> 980</td><td>1980</td></tr>\n",
       "\t<tr><td> 981</td><td>1981</td></tr>\n",
       "\t<tr><td> 982</td><td>1982</td></tr>\n",
       "\t<tr><td> 983</td><td>1983</td></tr>\n",
       "\t<tr><td> 984</td><td>1984</td></tr>\n",
       "\t<tr><td> 985</td><td>1985</td></tr>\n",
       "\t<tr><td> 986</td><td>1986</td></tr>\n",
       "\t<tr><td> 987</td><td>1987</td></tr>\n",
       "\t<tr><td> 988</td><td>1988</td></tr>\n",
       "\t<tr><td> 989</td><td>1989</td></tr>\n",
       "\t<tr><td> 990</td><td>1990</td></tr>\n",
       "\t<tr><td> 991</td><td>1991</td></tr>\n",
       "\t<tr><td> 992</td><td>1992</td></tr>\n",
       "\t<tr><td> 993</td><td>1993</td></tr>\n",
       "\t<tr><td> 994</td><td>1994</td></tr>\n",
       "\t<tr><td> 995</td><td>1995</td></tr>\n",
       "\t<tr><td> 996</td><td>1996</td></tr>\n",
       "\t<tr><td> 997</td><td>1997</td></tr>\n",
       "\t<tr><td> 998</td><td>1998</td></tr>\n",
       "\t<tr><td> 999</td><td>1999</td></tr>\n",
       "\t<tr><td>1000</td><td>2000</td></tr>\n",
       "</tbody>\n",
       "</table>\n"
      ],
      "text/latex": [
       "A matrix: 1000 × 2 of type int\n",
       "\\begin{tabular}{ll}\n",
       "\t  1 & 1001\\\\\n",
       "\t  2 & 1002\\\\\n",
       "\t  3 & 1003\\\\\n",
       "\t  4 & 1004\\\\\n",
       "\t  5 & 1005\\\\\n",
       "\t  6 & 1006\\\\\n",
       "\t  7 & 1007\\\\\n",
       "\t  8 & 1008\\\\\n",
       "\t  9 & 1009\\\\\n",
       "\t 10 & 1010\\\\\n",
       "\t 11 & 1011\\\\\n",
       "\t 12 & 1012\\\\\n",
       "\t 13 & 1013\\\\\n",
       "\t 14 & 1014\\\\\n",
       "\t 15 & 1015\\\\\n",
       "\t 16 & 1016\\\\\n",
       "\t 17 & 1017\\\\\n",
       "\t 18 & 1018\\\\\n",
       "\t 19 & 1019\\\\\n",
       "\t 20 & 1020\\\\\n",
       "\t 21 & 1021\\\\\n",
       "\t 22 & 1022\\\\\n",
       "\t 23 & 1023\\\\\n",
       "\t 24 & 1024\\\\\n",
       "\t 25 & 1025\\\\\n",
       "\t 26 & 1026\\\\\n",
       "\t 27 & 1027\\\\\n",
       "\t 28 & 1028\\\\\n",
       "\t 29 & 1029\\\\\n",
       "\t 30 & 1030\\\\\n",
       "\t ⋮ & ⋮\\\\\n",
       "\t  971 & 1971\\\\\n",
       "\t  972 & 1972\\\\\n",
       "\t  973 & 1973\\\\\n",
       "\t  974 & 1974\\\\\n",
       "\t  975 & 1975\\\\\n",
       "\t  976 & 1976\\\\\n",
       "\t  977 & 1977\\\\\n",
       "\t  978 & 1978\\\\\n",
       "\t  979 & 1979\\\\\n",
       "\t  980 & 1980\\\\\n",
       "\t  981 & 1981\\\\\n",
       "\t  982 & 1982\\\\\n",
       "\t  983 & 1983\\\\\n",
       "\t  984 & 1984\\\\\n",
       "\t  985 & 1985\\\\\n",
       "\t  986 & 1986\\\\\n",
       "\t  987 & 1987\\\\\n",
       "\t  988 & 1988\\\\\n",
       "\t  989 & 1989\\\\\n",
       "\t  990 & 1990\\\\\n",
       "\t  991 & 1991\\\\\n",
       "\t  992 & 1992\\\\\n",
       "\t  993 & 1993\\\\\n",
       "\t  994 & 1994\\\\\n",
       "\t  995 & 1995\\\\\n",
       "\t  996 & 1996\\\\\n",
       "\t  997 & 1997\\\\\n",
       "\t  998 & 1998\\\\\n",
       "\t  999 & 1999\\\\\n",
       "\t 1000 & 2000\\\\\n",
       "\\end{tabular}\n"
      ],
      "text/markdown": [
       "\n",
       "A matrix: 1000 × 2 of type int\n",
       "\n",
       "|  1 | 1001 |\n",
       "|  2 | 1002 |\n",
       "|  3 | 1003 |\n",
       "|  4 | 1004 |\n",
       "|  5 | 1005 |\n",
       "|  6 | 1006 |\n",
       "|  7 | 1007 |\n",
       "|  8 | 1008 |\n",
       "|  9 | 1009 |\n",
       "| 10 | 1010 |\n",
       "| 11 | 1011 |\n",
       "| 12 | 1012 |\n",
       "| 13 | 1013 |\n",
       "| 14 | 1014 |\n",
       "| 15 | 1015 |\n",
       "| 16 | 1016 |\n",
       "| 17 | 1017 |\n",
       "| 18 | 1018 |\n",
       "| 19 | 1019 |\n",
       "| 20 | 1020 |\n",
       "| 21 | 1021 |\n",
       "| 22 | 1022 |\n",
       "| 23 | 1023 |\n",
       "| 24 | 1024 |\n",
       "| 25 | 1025 |\n",
       "| 26 | 1026 |\n",
       "| 27 | 1027 |\n",
       "| 28 | 1028 |\n",
       "| 29 | 1029 |\n",
       "| 30 | 1030 |\n",
       "| ⋮ | ⋮ |\n",
       "|  971 | 1971 |\n",
       "|  972 | 1972 |\n",
       "|  973 | 1973 |\n",
       "|  974 | 1974 |\n",
       "|  975 | 1975 |\n",
       "|  976 | 1976 |\n",
       "|  977 | 1977 |\n",
       "|  978 | 1978 |\n",
       "|  979 | 1979 |\n",
       "|  980 | 1980 |\n",
       "|  981 | 1981 |\n",
       "|  982 | 1982 |\n",
       "|  983 | 1983 |\n",
       "|  984 | 1984 |\n",
       "|  985 | 1985 |\n",
       "|  986 | 1986 |\n",
       "|  987 | 1987 |\n",
       "|  988 | 1988 |\n",
       "|  989 | 1989 |\n",
       "|  990 | 1990 |\n",
       "|  991 | 1991 |\n",
       "|  992 | 1992 |\n",
       "|  993 | 1993 |\n",
       "|  994 | 1994 |\n",
       "|  995 | 1995 |\n",
       "|  996 | 1996 |\n",
       "|  997 | 1997 |\n",
       "|  998 | 1998 |\n",
       "|  999 | 1999 |\n",
       "| 1000 | 2000 |\n",
       "\n"
      ],
      "text/plain": [
       "      [,1] [,2]\n",
       " [1,]  1   1001\n",
       " [2,]  2   1002\n",
       " [3,]  3   1003\n",
       " [4,]  4   1004\n",
       " [5,]  5   1005\n",
       " [6,]  6   1006\n",
       " [7,]  7   1007\n",
       " [8,]  8   1008\n",
       " [9,]  9   1009\n",
       "[10,] 10   1010\n",
       "[11,] 11   1011\n",
       "[12,] 12   1012\n",
       "[13,] 13   1013\n",
       "[14,] 14   1014\n",
       "[15,] 15   1015\n",
       "[16,] 16   1016\n",
       "[17,] 17   1017\n",
       "[18,] 18   1018\n",
       "[19,] 19   1019\n",
       "[20,] 20   1020\n",
       "[21,] 21   1021\n",
       "[22,] 22   1022\n",
       "[23,] 23   1023\n",
       "[24,] 24   1024\n",
       "[25,] 25   1025\n",
       "[26,] 26   1026\n",
       "[27,] 27   1027\n",
       "[28,] 28   1028\n",
       "[29,] 29   1029\n",
       "[30,] 30   1030\n",
       "[31,] ⋮    ⋮   \n",
       "[32,]  971 1971\n",
       "[33,]  972 1972\n",
       "[34,]  973 1973\n",
       "[35,]  974 1974\n",
       "[36,]  975 1975\n",
       "[37,]  976 1976\n",
       "[38,]  977 1977\n",
       "[39,]  978 1978\n",
       "[40,]  979 1979\n",
       "[41,]  980 1980\n",
       "[42,]  981 1981\n",
       "[43,]  982 1982\n",
       "[44,]  983 1983\n",
       "[45,]  984 1984\n",
       "[46,]  985 1985\n",
       "[47,]  986 1986\n",
       "[48,]  987 1987\n",
       "[49,]  988 1988\n",
       "[50,]  989 1989\n",
       "[51,]  990 1990\n",
       "[52,]  991 1991\n",
       "[53,]  992 1992\n",
       "[54,]  993 1993\n",
       "[55,]  994 1994\n",
       "[56,]  995 1995\n",
       "[57,]  996 1996\n",
       "[58,]  997 1997\n",
       "[59,]  998 1998\n",
       "[60,]  999 1999\n",
       "[61,] 1000 2000"
      ]
     },
     "metadata": {},
     "output_type": "display_data"
    }
   ],
   "source": [
    "#What are the dimensions of this matrix? How many different genes?\n",
    "#Can you plot the gene expression across cells now?\n",
    "sampledf <- matrix(c(1:2000), nrow=1000)\n",
    "rownames(sampledf) <- c()\n",
    "(sampledf)"
   ]
  },
  {
   "cell_type": "markdown",
   "metadata": {},
   "source": [
    "This looks more realistic. How should we approach this? The goal of **dimensionality reduction** is to reduce these separate dimensions. We do not have to store separate information for individual genes, but instead can \"compress\" the data set into a single dimension. What are the benefits?:\n",
    "* Reduced Noise\n",
    "* Efficient Plotting \n",
    "* Still provides precise representation of data"
   ]
  },
  {
   "cell_type": "markdown",
   "metadata": {},
   "source": [
    "## Principal Component Analysis (PCA)"
   ]
  },
  {
   "cell_type": "markdown",
   "metadata": {},
   "source": [
    "**Principle Component Analysis, or PCA** is a tehcnique of dimensionality reduction that discovers axes in space. A simple way to think about is to imagine each axis as a line. We draw a line, and move all cells in our dataset onto this line by the shortest path. The variance of this \"axis\" is determined byt the variance of each data point. The first principle component axis captures the greatest variance. The next is chosen orthogonally to the first, and the process repeats. "
   ]
  },
  {
   "cell_type": "markdown",
   "metadata": {},
   "source": [
    "After normalizing the data, PCA is formed with the following commands:"
   ]
  },
  {
   "cell_type": "code",
   "execution_count": 23,
   "metadata": {},
   "outputs": [
    {
     "ename": "ERROR",
     "evalue": "Error in runPCA(): could not find function \"runPCA\"\n",
     "output_type": "error",
     "traceback": [
      "Error in runPCA(): could not find function \"runPCA\"\nTraceback:\n"
     ]
    }
   ],
   "source": [
    "runPCA() \n",
    "#function from the scater package \n",
    "#Try to find out the parameters and what is does\n",
    "\n",
    "reducedDim()\n",
    "# Tells new dimensions of matrix after PCA process"
   ]
  },
  {
   "cell_type": "markdown",
   "metadata": {},
   "source": [
    "## Visualization"
   ]
  },
  {
   "cell_type": "markdown",
   "metadata": {},
   "source": [
    "Plotting is very important when dealing with dimensionality reduction. Computers can deal with the 10-50 \"axes\" proposed by PCA, but this is still far more than we can understand. Here are few strategies to compress the data into 2 or 3 dimensions, and how to interpret the plots. Let's use the IRIS dataset "
   ]
  },
  {
   "cell_type": "code",
   "execution_count": 7,
   "metadata": {},
   "outputs": [
    {
     "name": "stderr",
     "output_type": "stream",
     "text": [
      "\n",
      "********************************************************\n",
      "\n",
      "Note: As of version 1.0.0, cowplot does not change the\n",
      "\n",
      "  default ggplot2 theme anymore. To recover the previous\n",
      "\n",
      "  behavior, execute:\n",
      "  theme_set(theme_cowplot())\n",
      "\n",
      "********************************************************\n",
      "\n",
      "\n",
      "\n",
      "Attaching package: ‘dplyr’\n",
      "\n",
      "\n",
      "The following objects are masked from ‘package:stats’:\n",
      "\n",
      "    filter, lag\n",
      "\n",
      "\n",
      "The following objects are masked from ‘package:base’:\n",
      "\n",
      "    intersect, setdiff, setequal, union\n",
      "\n",
      "\n"
     ]
    },
    {
     "data": {
      "text/html": [
       "<table class=\"dataframe\">\n",
       "<caption>A data.frame: 6 × 5</caption>\n",
       "<thead>\n",
       "\t<tr><th></th><th scope=col>Sepal.Length</th><th scope=col>Sepal.Width</th><th scope=col>Petal.Length</th><th scope=col>Petal.Width</th><th scope=col>Species</th></tr>\n",
       "\t<tr><th></th><th scope=col>&lt;dbl&gt;</th><th scope=col>&lt;dbl&gt;</th><th scope=col>&lt;dbl&gt;</th><th scope=col>&lt;dbl&gt;</th><th scope=col>&lt;fct&gt;</th></tr>\n",
       "</thead>\n",
       "<tbody>\n",
       "\t<tr><th scope=row>1</th><td>5.1</td><td>3.5</td><td>1.4</td><td>0.2</td><td>setosa</td></tr>\n",
       "\t<tr><th scope=row>2</th><td>4.9</td><td>3.0</td><td>1.4</td><td>0.2</td><td>setosa</td></tr>\n",
       "\t<tr><th scope=row>3</th><td>4.7</td><td>3.2</td><td>1.3</td><td>0.2</td><td>setosa</td></tr>\n",
       "\t<tr><th scope=row>4</th><td>4.6</td><td>3.1</td><td>1.5</td><td>0.2</td><td>setosa</td></tr>\n",
       "\t<tr><th scope=row>5</th><td>5.0</td><td>3.6</td><td>1.4</td><td>0.2</td><td>setosa</td></tr>\n",
       "\t<tr><th scope=row>6</th><td>5.4</td><td>3.9</td><td>1.7</td><td>0.4</td><td>setosa</td></tr>\n",
       "</tbody>\n",
       "</table>\n"
      ],
      "text/latex": [
       "A data.frame: 6 × 5\n",
       "\\begin{tabular}{r|lllll}\n",
       "  & Sepal.Length & Sepal.Width & Petal.Length & Petal.Width & Species\\\\\n",
       "  & <dbl> & <dbl> & <dbl> & <dbl> & <fct>\\\\\n",
       "\\hline\n",
       "\t1 & 5.1 & 3.5 & 1.4 & 0.2 & setosa\\\\\n",
       "\t2 & 4.9 & 3.0 & 1.4 & 0.2 & setosa\\\\\n",
       "\t3 & 4.7 & 3.2 & 1.3 & 0.2 & setosa\\\\\n",
       "\t4 & 4.6 & 3.1 & 1.5 & 0.2 & setosa\\\\\n",
       "\t5 & 5.0 & 3.6 & 1.4 & 0.2 & setosa\\\\\n",
       "\t6 & 5.4 & 3.9 & 1.7 & 0.4 & setosa\\\\\n",
       "\\end{tabular}\n"
      ],
      "text/markdown": [
       "\n",
       "A data.frame: 6 × 5\n",
       "\n",
       "| <!--/--> | Sepal.Length &lt;dbl&gt; | Sepal.Width &lt;dbl&gt; | Petal.Length &lt;dbl&gt; | Petal.Width &lt;dbl&gt; | Species &lt;fct&gt; |\n",
       "|---|---|---|---|---|---|\n",
       "| 1 | 5.1 | 3.5 | 1.4 | 0.2 | setosa |\n",
       "| 2 | 4.9 | 3.0 | 1.4 | 0.2 | setosa |\n",
       "| 3 | 4.7 | 3.2 | 1.3 | 0.2 | setosa |\n",
       "| 4 | 4.6 | 3.1 | 1.5 | 0.2 | setosa |\n",
       "| 5 | 5.0 | 3.6 | 1.4 | 0.2 | setosa |\n",
       "| 6 | 5.4 | 3.9 | 1.7 | 0.4 | setosa |\n",
       "\n"
      ],
      "text/plain": [
       "  Sepal.Length Sepal.Width Petal.Length Petal.Width Species\n",
       "1 5.1          3.5         1.4          0.2         setosa \n",
       "2 4.9          3.0         1.4          0.2         setosa \n",
       "3 4.7          3.2         1.3          0.2         setosa \n",
       "4 4.6          3.1         1.5          0.2         setosa \n",
       "5 5.0          3.6         1.4          0.2         setosa \n",
       "6 5.4          3.9         1.7          0.4         setosa "
      ]
     },
     "metadata": {},
     "output_type": "display_data"
    },
    {
     "name": "stdout",
     "output_type": "stream",
     "text": [
      "'data.frame':\t150 obs. of  5 variables:\n",
      " $ Sepal.Length: num  5.1 4.9 4.7 4.6 5 5.4 4.6 5 4.4 4.9 ...\n",
      " $ Sepal.Width : num  3.5 3 3.2 3.1 3.6 3.9 3.4 3.4 2.9 3.1 ...\n",
      " $ Petal.Length: num  1.4 1.4 1.3 1.5 1.4 1.7 1.4 1.5 1.4 1.5 ...\n",
      " $ Petal.Width : num  0.2 0.2 0.2 0.2 0.2 0.4 0.3 0.2 0.2 0.1 ...\n",
      " $ Species     : Factor w/ 3 levels \"setosa\",\"versicolor\",..: 1 1 1 1 1 1 1 1 1 1 ...\n"
     ]
    },
    {
     "data": {
      "text/html": [
       "0"
      ],
      "text/latex": [
       "0"
      ],
      "text/markdown": [
       "0"
      ],
      "text/plain": [
       "[1] 0"
      ]
     },
     "metadata": {},
     "output_type": "display_data"
    },
    {
     "data": {
      "text/plain": [
       "  Sepal.Length    Sepal.Width     Petal.Length    Petal.Width   \n",
       " Min.   :4.300   Min.   :2.000   Min.   :1.000   Min.   :0.100  \n",
       " 1st Qu.:5.100   1st Qu.:2.800   1st Qu.:1.600   1st Qu.:0.300  \n",
       " Median :5.800   Median :3.000   Median :4.350   Median :1.300  \n",
       " Mean   :5.843   Mean   :3.057   Mean   :3.758   Mean   :1.199  \n",
       " 3rd Qu.:6.400   3rd Qu.:3.300   3rd Qu.:5.100   3rd Qu.:1.800  \n",
       " Max.   :7.900   Max.   :4.400   Max.   :6.900   Max.   :2.500  \n",
       "       Species  \n",
       " setosa    :50  \n",
       " versicolor:50  \n",
       " virginica :50  \n",
       "                \n",
       "                \n",
       "                "
      ]
     },
     "metadata": {},
     "output_type": "display_data"
    }
   ],
   "source": [
    "#Go look for what these packages do\n",
    "library(ggplot2)\n",
    "library(cowplot)\n",
    "library(ggplot2)\n",
    "library(cowplot) # required to arrange multiple plots in a grid\n",
    "theme_set(theme_bw(base_size=12)) # set default ggplot2 theme\n",
    "library(dplyr)\n",
    "library(grid)\n",
    "\n",
    "\n",
    "head(iris) # The IRIS dataset\n",
    "str(iris) # structure of the dataset\n",
    "sum(is.na(iris)) #Any NULL values\n",
    "summary(iris)\n",
    "#What does this command give us?\n",
    "#What does it give a \"summary\" on\n",
    "\n",
    "\n"
   ]
  },
  {
   "cell_type": "code",
   "execution_count": 8,
   "metadata": {},
   "outputs": [
    {
     "data": {
      "text/plain": [
       "Standard deviations (1, .., p=4):\n",
       "[1] 1.7083611 0.9560494 0.3830886 0.1439265\n",
       "\n",
       "Rotation (n x k) = (4 x 4):\n",
       "                    PC1         PC2        PC3        PC4\n",
       "Sepal.Length  0.5210659 -0.37741762  0.7195664  0.2612863\n",
       "Sepal.Width  -0.2693474 -0.92329566 -0.2443818 -0.1235096\n",
       "Petal.Length  0.5804131 -0.02449161 -0.1421264 -0.8014492\n",
       "Petal.Width   0.5648565 -0.06694199 -0.6342727  0.5235971"
      ]
     },
     "metadata": {},
     "output_type": "display_data"
    }
   ],
   "source": [
    "iris %>% select(-Species) %>% # remove Species column\n",
    "  scale() %>%                 # scale to 0 mean and unit variance\n",
    "  prcomp() ->                 # do PCA\n",
    "  pca                    \n",
    "\n",
    "pca #what does the output show?"
   ]
  },
  {
   "cell_type": "code",
   "execution_count": 10,
   "metadata": {},
   "outputs": [
    {
     "data": {
      "text/html": [
       "<table class=\"dataframe\">\n",
       "<caption>A matrix: 6 × 4 of type dbl</caption>\n",
       "<thead>\n",
       "\t<tr><th scope=col>PC1</th><th scope=col>PC2</th><th scope=col>PC3</th><th scope=col>PC4</th></tr>\n",
       "</thead>\n",
       "<tbody>\n",
       "\t<tr><td>-2.257141</td><td>-0.4784238</td><td> 0.12727962</td><td> 0.024087508</td></tr>\n",
       "\t<tr><td>-2.074013</td><td> 0.6718827</td><td> 0.23382552</td><td> 0.102662845</td></tr>\n",
       "\t<tr><td>-2.356335</td><td> 0.3407664</td><td>-0.04405390</td><td> 0.028282305</td></tr>\n",
       "\t<tr><td>-2.291707</td><td> 0.5953999</td><td>-0.09098530</td><td>-0.065735340</td></tr>\n",
       "\t<tr><td>-2.381863</td><td>-0.6446757</td><td>-0.01568565</td><td>-0.035802870</td></tr>\n",
       "\t<tr><td>-2.068701</td><td>-1.4842053</td><td>-0.02687825</td><td> 0.006586116</td></tr>\n",
       "</tbody>\n",
       "</table>\n"
      ],
      "text/latex": [
       "A matrix: 6 × 4 of type dbl\n",
       "\\begin{tabular}{llll}\n",
       " PC1 & PC2 & PC3 & PC4\\\\\n",
       "\\hline\n",
       "\t -2.257141 & -0.4784238 &  0.12727962 &  0.024087508\\\\\n",
       "\t -2.074013 &  0.6718827 &  0.23382552 &  0.102662845\\\\\n",
       "\t -2.356335 &  0.3407664 & -0.04405390 &  0.028282305\\\\\n",
       "\t -2.291707 &  0.5953999 & -0.09098530 & -0.065735340\\\\\n",
       "\t -2.381863 & -0.6446757 & -0.01568565 & -0.035802870\\\\\n",
       "\t -2.068701 & -1.4842053 & -0.02687825 &  0.006586116\\\\\n",
       "\\end{tabular}\n"
      ],
      "text/markdown": [
       "\n",
       "A matrix: 6 × 4 of type dbl\n",
       "\n",
       "| PC1 | PC2 | PC3 | PC4 |\n",
       "|---|---|---|---|\n",
       "| -2.257141 | -0.4784238 |  0.12727962 |  0.024087508 |\n",
       "| -2.074013 |  0.6718827 |  0.23382552 |  0.102662845 |\n",
       "| -2.356335 |  0.3407664 | -0.04405390 |  0.028282305 |\n",
       "| -2.291707 |  0.5953999 | -0.09098530 | -0.065735340 |\n",
       "| -2.381863 | -0.6446757 | -0.01568565 | -0.035802870 |\n",
       "| -2.068701 | -1.4842053 | -0.02687825 |  0.006586116 |\n",
       "\n"
      ],
      "text/plain": [
       "     PC1       PC2        PC3         PC4         \n",
       "[1,] -2.257141 -0.4784238  0.12727962  0.024087508\n",
       "[2,] -2.074013  0.6718827  0.23382552  0.102662845\n",
       "[3,] -2.356335  0.3407664 -0.04405390  0.028282305\n",
       "[4,] -2.291707  0.5953999 -0.09098530 -0.065735340\n",
       "[5,] -2.381863 -0.6446757 -0.01568565 -0.035802870\n",
       "[6,] -2.068701 -1.4842053 -0.02687825  0.006586116"
      ]
     },
     "metadata": {},
     "output_type": "display_data"
    },
    {
     "data": {
      "text/html": [
       "<table class=\"dataframe\">\n",
       "<caption>A data.frame: 6 × 5</caption>\n",
       "<thead>\n",
       "\t<tr><th></th><th scope=col>PC1</th><th scope=col>PC2</th><th scope=col>PC3</th><th scope=col>PC4</th><th scope=col>Species</th></tr>\n",
       "\t<tr><th></th><th scope=col>&lt;dbl&gt;</th><th scope=col>&lt;dbl&gt;</th><th scope=col>&lt;dbl&gt;</th><th scope=col>&lt;dbl&gt;</th><th scope=col>&lt;fct&gt;</th></tr>\n",
       "</thead>\n",
       "<tbody>\n",
       "\t<tr><th scope=row>1</th><td>-2.257141</td><td>-0.4784238</td><td> 0.12727962</td><td> 0.024087508</td><td>setosa</td></tr>\n",
       "\t<tr><th scope=row>2</th><td>-2.074013</td><td> 0.6718827</td><td> 0.23382552</td><td> 0.102662845</td><td>setosa</td></tr>\n",
       "\t<tr><th scope=row>3</th><td>-2.356335</td><td> 0.3407664</td><td>-0.04405390</td><td> 0.028282305</td><td>setosa</td></tr>\n",
       "\t<tr><th scope=row>4</th><td>-2.291707</td><td> 0.5953999</td><td>-0.09098530</td><td>-0.065735340</td><td>setosa</td></tr>\n",
       "\t<tr><th scope=row>5</th><td>-2.381863</td><td>-0.6446757</td><td>-0.01568565</td><td>-0.035802870</td><td>setosa</td></tr>\n",
       "\t<tr><th scope=row>6</th><td>-2.068701</td><td>-1.4842053</td><td>-0.02687825</td><td> 0.006586116</td><td>setosa</td></tr>\n",
       "</tbody>\n",
       "</table>\n"
      ],
      "text/latex": [
       "A data.frame: 6 × 5\n",
       "\\begin{tabular}{r|lllll}\n",
       "  & PC1 & PC2 & PC3 & PC4 & Species\\\\\n",
       "  & <dbl> & <dbl> & <dbl> & <dbl> & <fct>\\\\\n",
       "\\hline\n",
       "\t1 & -2.257141 & -0.4784238 &  0.12727962 &  0.024087508 & setosa\\\\\n",
       "\t2 & -2.074013 &  0.6718827 &  0.23382552 &  0.102662845 & setosa\\\\\n",
       "\t3 & -2.356335 &  0.3407664 & -0.04405390 &  0.028282305 & setosa\\\\\n",
       "\t4 & -2.291707 &  0.5953999 & -0.09098530 & -0.065735340 & setosa\\\\\n",
       "\t5 & -2.381863 & -0.6446757 & -0.01568565 & -0.035802870 & setosa\\\\\n",
       "\t6 & -2.068701 & -1.4842053 & -0.02687825 &  0.006586116 & setosa\\\\\n",
       "\\end{tabular}\n"
      ],
      "text/markdown": [
       "\n",
       "A data.frame: 6 × 5\n",
       "\n",
       "| <!--/--> | PC1 &lt;dbl&gt; | PC2 &lt;dbl&gt; | PC3 &lt;dbl&gt; | PC4 &lt;dbl&gt; | Species &lt;fct&gt; |\n",
       "|---|---|---|---|---|---|\n",
       "| 1 | -2.257141 | -0.4784238 |  0.12727962 |  0.024087508 | setosa |\n",
       "| 2 | -2.074013 |  0.6718827 |  0.23382552 |  0.102662845 | setosa |\n",
       "| 3 | -2.356335 |  0.3407664 | -0.04405390 |  0.028282305 | setosa |\n",
       "| 4 | -2.291707 |  0.5953999 | -0.09098530 | -0.065735340 | setosa |\n",
       "| 5 | -2.381863 | -0.6446757 | -0.01568565 | -0.035802870 | setosa |\n",
       "| 6 | -2.068701 | -1.4842053 | -0.02687825 |  0.006586116 | setosa |\n",
       "\n"
      ],
      "text/plain": [
       "  PC1       PC2        PC3         PC4          Species\n",
       "1 -2.257141 -0.4784238  0.12727962  0.024087508 setosa \n",
       "2 -2.074013  0.6718827  0.23382552  0.102662845 setosa \n",
       "3 -2.356335  0.3407664 -0.04405390  0.028282305 setosa \n",
       "4 -2.291707  0.5953999 -0.09098530 -0.065735340 setosa \n",
       "5 -2.381863 -0.6446757 -0.01568565 -0.035802870 setosa \n",
       "6 -2.068701 -1.4842053 -0.02687825  0.006586116 setosa "
      ]
     },
     "metadata": {},
     "output_type": "display_data"
    }
   ],
   "source": [
    "#We want to plot PC2 vs PC1\n",
    "head(pca$x) #this is the rotated data\n",
    " \n",
    "#But what species is each observation?\n",
    "\n",
    "#Creating a a dataframe to include the species\n",
    "pca_data <- data.frame(pca$x, Species=iris$Species)\n",
    "\n",
    "\n",
    "head(pca_data)"
   ]
  },
  {
   "cell_type": "markdown",
   "metadata": {},
   "source": [
    "Now we must plot the PCA as usual. If you are not familiar with ggplot, try to understand what each part is doing"
   ]
  },
  {
   "cell_type": "code",
   "execution_count": 11,
   "metadata": {},
   "outputs": [
    {
     "data": {
      "image/png": "[encoded data removed]",
      "text/plain": [
       "plot without title"
      ]
     },
     "metadata": {
      "image/png": {
       "height": 420,
       "width": 420
      }
     },
     "output_type": "display_data"
    }
   ],
   "source": [
    "ggplot(pca_data, aes(x=PC1, y=PC2, color=Species)) + geom_point()\n"
   ]
  },
  {
   "cell_type": "markdown",
   "metadata": {},
   "source": [
    "Now let's try a UMAP transformation. Uniform Manifold Approximation and Projection (UMAP) is an algorithm for dimensional reduction. We can use the \"umap\" package in R to perfro mdata transformations. It constructs a high dimensional graph representation on the data, then optimizes a low-dimensional graph to be as similar as possible. The main benefits of using UMAP are as follows:\n",
    "\n",
    "* Non linear dataset\n",
    "* Superior time performance over other techniques\n",
    "* No computational restrictions\n"
   ]
  },
  {
   "cell_type": "code",
   "execution_count": 22,
   "metadata": {},
   "outputs": [],
   "source": [
    "library(umap)\n",
    "#Start from scratch \n",
    "#First four columns have data, last column has a label\n",
    "iris.data = iris[, grep(\"Sepal|Petal\", colnames(iris))]\n",
    "iris.labels = iris[, \"Species\"]\n",
    "\n",
    "umap <- umap(iris.data) #umap() does this for us!"
   ]
  },
  {
   "cell_type": "code",
   "execution_count": 15,
   "metadata": {},
   "outputs": [
    {
     "name": "stderr",
     "output_type": "stream",
     "text": [
      "umap embedding of 150 items in 2 dimensions\n",
      "object components: layout, data, knn, config\n",
      "\n"
     ]
    }
   ],
   "source": [
    "umap #what does the umap object look like?"
   ]
  },
  {
   "cell_type": "code",
   "execution_count": 17,
   "metadata": {},
   "outputs": [
    {
     "data": {
      "text/html": [
       "<table class=\"dataframe\">\n",
       "<caption>A matrix: 3 × 2 of type dbl</caption>\n",
       "<tbody>\n",
       "\t<tr><td>12.76265</td><td>-0.7785278</td></tr>\n",
       "\t<tr><td>13.73278</td><td> 1.0068403</td></tr>\n",
       "\t<tr><td>14.20189</td><td> 0.6017527</td></tr>\n",
       "</tbody>\n",
       "</table>\n"
      ],
      "text/latex": [
       "A matrix: 3 × 2 of type dbl\n",
       "\\begin{tabular}{ll}\n",
       "\t 12.76265 & -0.7785278\\\\\n",
       "\t 13.73278 &  1.0068403\\\\\n",
       "\t 14.20189 &  0.6017527\\\\\n",
       "\\end{tabular}\n"
      ],
      "text/markdown": [
       "\n",
       "A matrix: 3 × 2 of type dbl\n",
       "\n",
       "| 12.76265 | -0.7785278 |\n",
       "| 13.73278 |  1.0068403 |\n",
       "| 14.20189 |  0.6017527 |\n",
       "\n"
      ],
      "text/plain": [
       "     [,1]     [,2]      \n",
       "[1,] 12.76265 -0.7785278\n",
       "[2,] 13.73278  1.0068403\n",
       "[3,] 14.20189  0.6017527"
      ]
     },
     "metadata": {},
     "output_type": "display_data"
    }
   ],
   "source": [
    "head(umap$layout, 3)"
   ]
  },
  {
   "cell_type": "markdown",
   "metadata": {},
   "source": [
    "Below is a function called plot.iris that deals with graphing UMAP based on our layout above. It is not important to understnad how the plot function is coded, but remember to study the plot. "
   ]
  },
  {
   "cell_type": "code",
   "execution_count": 32,
   "metadata": {
    "jupyter": {
     "source_hidden": true
    }
   },
   "outputs": [],
   "source": [
    "#Now we plot the dataset\n",
    "\n",
    "#Custom function for \"plot.iris\"\n",
    "#Not important to understand, but c\n",
    "plot.iris <- function(x, labels,\n",
    "          main=\"A UMAP visualization of the Iris dataset\",\n",
    "         colors=c(\"#ff7f00\", \"#e377c2\", \"#17becf\"),\n",
    "          pad=0.1, cex=0.65, pch=19, add=FALSE, legend.suffix=\"\",\n",
    "       cex.main=1, cex.legend=1) {\n",
    " \n",
    "   layout = x\n",
    "   if (is(x, \"umap\")) {\n",
    "    layout = x$layout\n",
    "   } \n",
    "  \n",
    "  xylim = range(layout)\n",
    "  xylim = xylim + ((xylim[2]-xylim[1])*pad)*c(-0.5, 0.5)\n",
    "   if (!add) {\n",
    "    par(mar=c(0.2,0.7,1.2,0.7), ps=10)\n",
    "    plot(xylim, xylim, type=\"n\", axes=F, frame=F)\n",
    "     rect(xylim[1], xylim[1], xylim[2], xylim[2], border=\"#aaaaaa\", lwd=0.25)  \n",
    "   }\n",
    "   points(layout[,1], layout[,2], col=colors[as.integer(labels)],\n",
    "          cex=cex, pch=pch)\n",
    "   mtext(side=3, main, cex=cex.main)\n",
    " \n",
    "   labels.u = unique(labels)\n",
    "   legend.pos = \"topright\"\n",
    "   legend.text = as.character(labels.u)\n",
    "  if (add) {\n",
    "     legend.pos = \"bottomright\"\n",
    "     legend.text = paste(as.character(labels.u), legend.suffix)\n",
    "   }\n",
    "   legend(legend.pos, legend=legend.text,\n",
    "          col=colors[as.integer(labels.u)],\n",
    "          bty=\"n\", pch=pch, cex=cex.legend)\n",
    " }\n",
    "\n"
   ]
  },
  {
   "cell_type": "code",
   "execution_count": 33,
   "metadata": {},
   "outputs": [
    {
     "data": {
      "image/png": "[encoded data removed]",
      "text/plain": [
       "plot without title"
      ]
     },
     "metadata": {
      "image/png": {
       "height": 420,
       "width": 420
      }
     },
     "output_type": "display_data"
    }
   ],
   "source": [
    "plot.iris(umap, iris.labels)"
   ]
  },
  {
   "cell_type": "markdown",
   "metadata": {},
   "source": [
    "## t-SNE"
   ]
  },
  {
   "cell_type": "markdown",
   "metadata": {},
   "source": [
    "T-distributed stochastic neighbour embedding (t-SNE) is another technique that takes a high dimensional data set and reduces it to a low dimensional graph that retains a lot of the original information. "
   ]
  },
  {
   "cell_type": "markdown",
   "metadata": {},
   "source": [
    "## Comparing Dimensionality Reduction Techniques\n",
    "\n",
    "### PCA pro \n",
    "* Highly interpretable, computationally efficient\n",
    "\n",
    "#### PCA con\n",
    "* PCA is a linear dimensional reduction technique and therefore deemed very inappropriate for data visualisation\n",
    "\n",
    "### tSNE pro \n",
    "* powerfully captures the non-linearity in high dimensional datasets and is able to retain the local structures in low dimensions (much better than PCA)\n",
    "\n",
    "### tSNE con\n",
    "* t-SNE is a stochastic method, there is a random initialisation involved and it doesn’t produce similar outputs on successive runs\n",
    "\n",
    "And finally, we must include some extra pros for UMAP, because it is so great. \n",
    "\n",
    "### UMAP pro(s)\n",
    "* superior run time performance over t-SNE\n",
    "* no computational restrictions on embedding dimensions and can be used as an effective pre-processing step to boost the performance of density based clustering algorithms.\n",
    "* better preservation of a data’s global structure\n",
    "\n",
    "### UMAP con\n",
    "* lower dimension embeddings of UMAP lack strong interpretability.\n",
    "* Nothing else worth mentioning. UMAP is great!\n",
    "\n"
   ]
  },
  {
   "cell_type": "code",
   "execution_count": null,
   "metadata": {},
   "outputs": [],
   "source": []
  }
 ],
 "metadata": {
  "kernelspec": {
   "display_name": "R",
   "language": "R",
   "name": "ir"
  },
  "language_info": {
   "codemirror_mode": "r",
   "file_extension": ".r",
   "mimetype": "text/x-r-source",
   "name": "R",
   "pygments_lexer": "r",
   "version": "3.6.3"
  }
 },
 "nbformat": 4,
 "nbformat_minor": 4
}
