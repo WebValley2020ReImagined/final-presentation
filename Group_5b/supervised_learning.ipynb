{
 "cells": [
  {
   "cell_type": "markdown",
   "metadata": {},
   "source": [
    "# Supervised learning\n",
    "A supervised learning model is built using **labelled** data. There are two categories od supervised learning models, based on how the output is:\n",
    "- **regression**: continuous output *(e.g. a model extracting the direction of a street given its photo)*\n",
    "- **classification**: discrete output *(e.g. a model determining the type of a flower given its photo)*"
   ]
  },
  {
   "cell_type": "markdown",
   "metadata": {},
   "source": [
    "## k-nearest neighbors algorithm (k-NN)\n",
    "The most basic method to achieve supervised learing, k-nearest neighbors, has actually nothing to do with *learning*, but is more about *comparing*. The whole train data set, complete with labels, is kept in memory in order for a k-NN model to work. When an unseen sample needs to be processed its **euclidean distance** to all other samples is calculated, and the `k` nearest samples are computed. A classification k-NN model would then return the **most common class** amongst them, while a regression one would return the mean (or some other composition) of the labels attached to them."
   ]
  },
  {
   "cell_type": "code",
   "execution_count": 11,
   "metadata": {},
   "outputs": [
    {
     "name": "stdout",
     "output_type": "stream",
     "text": [
      "[1 0 1]\n",
      "[[0.         1.        ]\n",
      " [0.66666667 0.33333333]\n",
      " [0.33333333 0.66666667]]\n"
     ]
    }
   ],
   "source": [
    "from sklearn.neighbors import KNeighborsClassifier\n",
    "# one-dimensional dataset with category 0, expect for range [2,5] with category 1\n",
    "trainDataset = [[0], [1], [2], [3], [4], [5], [6]]\n",
    "trainLabels  = [ 0,   0,   1,   1,   1,   1,   0 ]\n",
    "\n",
    "# here k is 3\n",
    "knn_classifier = KNeighborsClassifier(n_neighbors=3)\n",
    "knn_classifier.fit(trainDataset, trainLabels)\n",
    "\n",
    "unseenDataset = [[3.1], [-2.4], [7]]\n",
    "print(knn_classifier.predict(unseenDataset)) # prints the label predictions for the unseen samples\n",
    "print(knn_classifier.predict_proba(unseenDataset)) # prints the ratio of neighnbors with a specific label"
   ]
  },
  {
   "cell_type": "markdown",
   "metadata": {},
   "source": [
    "## Neural networks\n",
    "The "
   ]
  },
  {
   "cell_type": "markdown",
   "metadata": {},
   "source": [
    "## Deep neural networks\n",
    "The bleeding edge applications of neural networks"
   ]
  }
 ],
 "metadata": {
  "kernelspec": {
   "display_name": "Python 3",
   "language": "python",
   "name": "python3"
  },
  "language_info": {
   "codemirror_mode": {
    "name": "ipython",
    "version": 3
   },
   "file_extension": ".py",
   "mimetype": "text/x-python",
   "name": "python",
   "nbconvert_exporter": "python",
   "pygments_lexer": "ipython3",
   "version": "3.7.7"
  }
 },
 "nbformat": 4,
 "nbformat_minor": 4
}
